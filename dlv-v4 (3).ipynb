{
 "cells": [
  {
   "cell_type": "markdown",
   "metadata": {},
   "source": [
    "Caltech-101 "
   ]
  },
  {
   "cell_type": "code",
   "execution_count": 3,
   "metadata": {},
   "outputs": [
    {
     "name": "stdout",
     "output_type": "stream",
     "text": [
      "Collecting gdown\n",
      "  Downloading gdown-5.2.0-py3-none-any.whl.metadata (5.8 kB)\n",
      "Requirement already satisfied: beautifulsoup4 in c:\\users\\admin\\appdata\\roaming\\python\\python310\\site-packages (from gdown) (4.12.2)\n",
      "Requirement already satisfied: filelock in c:\\users\\admin\\appdata\\roaming\\python\\python310\\site-packages (from gdown) (3.12.2)\n",
      "Requirement already satisfied: requests[socks] in c:\\users\\admin\\appdata\\roaming\\python\\python310\\site-packages (from gdown) (2.31.0)\n",
      "Requirement already satisfied: tqdm in c:\\users\\admin\\anaconda3\\envs\\scio\\lib\\site-packages (from gdown) (4.66.5)\n",
      "Requirement already satisfied: soupsieve>1.2 in c:\\users\\admin\\appdata\\roaming\\python\\python310\\site-packages (from beautifulsoup4->gdown) (2.4.1)\n",
      "Requirement already satisfied: charset-normalizer<4,>=2 in c:\\users\\admin\\appdata\\roaming\\python\\python310\\site-packages (from requests[socks]->gdown) (3.2.0)\n",
      "Requirement already satisfied: idna<4,>=2.5 in c:\\users\\admin\\appdata\\roaming\\python\\python310\\site-packages (from requests[socks]->gdown) (3.4)\n",
      "Requirement already satisfied: urllib3<3,>=1.21.1 in c:\\users\\admin\\appdata\\roaming\\python\\python310\\site-packages (from requests[socks]->gdown) (2.0.4)\n",
      "Requirement already satisfied: certifi>=2017.4.17 in c:\\users\\admin\\appdata\\roaming\\python\\python310\\site-packages (from requests[socks]->gdown) (2023.7.22)\n",
      "Requirement already satisfied: PySocks!=1.5.7,>=1.5.6 in c:\\users\\admin\\anaconda3\\envs\\scio\\lib\\site-packages (from requests[socks]->gdown) (1.7.1)\n",
      "Requirement already satisfied: colorama in c:\\users\\admin\\appdata\\roaming\\python\\python310\\site-packages (from tqdm->gdown) (0.4.6)\n",
      "Downloading gdown-5.2.0-py3-none-any.whl (18 kB)\n",
      "Installing collected packages: gdown\n",
      "Successfully installed gdown-5.2.0\n"
     ]
    }
   ],
   "source": [
    "!pip install gdown"
   ]
  },
  {
   "cell_type": "markdown",
   "metadata": {},
   "source": [
    "DataLoader"
   ]
  },
  {
   "cell_type": "code",
   "execution_count": 4,
   "metadata": {},
   "outputs": [
    {
     "name": "stderr",
     "output_type": "stream",
     "text": [
      "Downloading...\n",
      "From (original): https://drive.google.com/uc?id=137RyRjvTBkBiIfeYBNZBtViDHQ6_Ewsp\n",
      "From (redirected): https://drive.usercontent.google.com/download?id=137RyRjvTBkBiIfeYBNZBtViDHQ6_Ewsp&confirm=t&uuid=d443b0c4-27ca-4790-9672-a361bd139d24\n",
      "To: C:\\Users\\Admin\\Downloads\\data\\101_ObjectCategories\\caltech101\\101_ObjectCategories.tar.gz\n",
      "100%|██████████| 132M/132M [01:56<00:00, 1.13MB/s] \n"
     ]
    },
    {
     "name": "stdout",
     "output_type": "stream",
     "text": [
      "Extracting ./data/101_ObjectCategories\\caltech101\\101_ObjectCategories.tar.gz to ./data/101_ObjectCategories\\caltech101\n"
     ]
    },
    {
     "name": "stderr",
     "output_type": "stream",
     "text": [
      "Downloading...\n",
      "From: https://drive.google.com/uc?id=175kQy3UsZ0wUEHZjqkUDdNVssr7bgh_m\n",
      "To: C:\\Users\\Admin\\Downloads\\data\\101_ObjectCategories\\caltech101\\Annotations.tar\n",
      "100%|██████████| 14.0M/14.0M [00:24<00:00, 566kB/s]\n"
     ]
    },
    {
     "name": "stdout",
     "output_type": "stream",
     "text": [
      "Extracting ./data/101_ObjectCategories\\caltech101\\Annotations.tar to ./data/101_ObjectCategories\\caltech101\n"
     ]
    }
   ],
   "source": [
    "import os\n",
    "import torch\n",
    "import numpy as np\n",
    "from torchvision import datasets, transforms\n",
    "from torch.utils.data import DataLoader, Subset\n",
    "from sklearn.model_selection import train_test_split\n",
    "\n",
    "def ensure_rgb(image):\n",
    "    if image.mode != 'RGB':\n",
    "        image = image.convert('RGB')\n",
    "    return image\n",
    "def load_caltech101(batch_size=32):\n",
    "    # Define transforms for preprocessing\n",
    "    transform = transforms.Compose([\n",
    "        transforms.Lambda(ensure_rgb),\n",
    "        transforms.Resize((224, 224)),  # Resize to 224x224\n",
    "        transforms.ToTensor(),  # Convert images to PyTorch tensors\n",
    "        transforms.Normalize(mean=[0.485, 0.456, 0.406], std=[0.229, 0.224, 0.225]) \n",
    "    ])\n",
    "\n",
    "    # Load the entire Caltech101 dataset\n",
    "    dataset = datasets.Caltech101(root='./data/101_ObjectCategories', download=True, transform=transform)\n",
    "\n",
    "    # Get labels and indices\n",
    "    labels = np.array([target for _, target in dataset])\n",
    "    \n",
    "    # Create train and test splits\n",
    "    train_indices, test_indices = train_test_split(\n",
    "        np.arange(len(dataset)), test_size=0.3, stratify=labels, random_state=42\n",
    "    )\n",
    "  \n",
    "    # Create subsets for training and testing\n",
    "    train_dataset = Subset(dataset, train_indices)\n",
    "    test_dataset = Subset(dataset, test_indices)\n",
    "\n",
    "    # Create data loaders\n",
    "    train_loader = DataLoader(train_dataset, batch_size=batch_size, shuffle=True)\n",
    "    test_loader = DataLoader(test_dataset, batch_size=batch_size, shuffle=False)\n",
    "\n",
    "    return train_loader, test_loader\n",
    "\n",
    "# Load the datasets\n",
    "train_loader, test_loader = load_caltech101()"
   ]
  },
  {
   "cell_type": "code",
   "execution_count": 5,
   "metadata": {},
   "outputs": [
    {
     "name": "stdout",
     "output_type": "stream",
     "text": [
      "Requirement already satisfied: umap-learn in c:\\users\\admin\\anaconda3\\envs\\scio\\lib\\site-packages (0.5.6)\n",
      "Requirement already satisfied: numpy>=1.17 in c:\\users\\admin\\appdata\\roaming\\python\\python310\\site-packages (from umap-learn) (1.25.2)\n",
      "Requirement already satisfied: scipy>=1.3.1 in c:\\users\\admin\\anaconda3\\envs\\scio\\lib\\site-packages (from umap-learn) (1.11.4)\n",
      "Requirement already satisfied: scikit-learn>=0.22 in c:\\users\\admin\\anaconda3\\envs\\scio\\lib\\site-packages (from umap-learn) (1.3.2)\n",
      "Requirement already satisfied: numba>=0.51.2 in c:\\users\\admin\\anaconda3\\envs\\scio\\lib\\site-packages (from umap-learn) (0.60.0)\n",
      "Requirement already satisfied: pynndescent>=0.5 in c:\\users\\admin\\anaconda3\\envs\\scio\\lib\\site-packages (from umap-learn) (0.5.13)\n",
      "Requirement already satisfied: tqdm in c:\\users\\admin\\anaconda3\\envs\\scio\\lib\\site-packages (from umap-learn) (4.66.5)\n",
      "Requirement already satisfied: llvmlite<0.44,>=0.43.0dev0 in c:\\users\\admin\\anaconda3\\envs\\scio\\lib\\site-packages (from numba>=0.51.2->umap-learn) (0.43.0)\n",
      "Requirement already satisfied: joblib>=0.11 in c:\\users\\admin\\anaconda3\\envs\\scio\\lib\\site-packages (from pynndescent>=0.5->umap-learn) (1.3.2)\n",
      "Requirement already satisfied: threadpoolctl>=2.0.0 in c:\\users\\admin\\anaconda3\\envs\\scio\\lib\\site-packages (from scikit-learn>=0.22->umap-learn) (3.2.0)\n",
      "Requirement already satisfied: colorama in c:\\users\\admin\\appdata\\roaming\\python\\python310\\site-packages (from tqdm->umap-learn) (0.4.6)\n"
     ]
    }
   ],
   "source": [
    "!pip install umap-learn"
   ]
  },
  {
   "cell_type": "markdown",
   "metadata": {},
   "source": [
    "KNN "
   ]
  },
  {
   "cell_type": "code",
   "execution_count": 6,
   "metadata": {},
   "outputs": [
    {
     "name": "stderr",
     "output_type": "stream",
     "text": [
      "C:\\Users\\Admin\\anaconda3\\envs\\scio\\lib\\site-packages\\torchvision\\models\\_utils.py:208: UserWarning: The parameter 'pretrained' is deprecated since 0.13 and may be removed in the future, please use 'weights' instead.\n",
      "  warnings.warn(\n",
      "C:\\Users\\Admin\\anaconda3\\envs\\scio\\lib\\site-packages\\torchvision\\models\\_utils.py:223: UserWarning: Arguments other than a weight enum or `None` for 'weights' are deprecated since 0.13 and may be removed in the future. The current behavior is equivalent to passing `weights=ResNet50_Weights.IMAGENET1K_V1`. You can also use `weights=ResNet50_Weights.DEFAULT` to get the most up-to-date weights.\n",
      "  warnings.warn(msg)\n",
      "Downloading: \"https://download.pytorch.org/models/resnet50-0676ba61.pth\" to C:\\Users\\Admin/.cache\\torch\\hub\\checkpoints\\resnet50-0676ba61.pth\n",
      "100%|██████████| 97.8M/97.8M [02:25<00:00, 703kB/s] \n"
     ]
    },
    {
     "name": "stdout",
     "output_type": "stream",
     "text": [
      "k-NN Test Accuracy: 89.25%\n"
     ]
    }
   ],
   "source": [
    "import torchvision.models as models\n",
    "from torchvision import datasets, transforms\n",
    "from sklearn.neighbors import KNeighborsClassifier\n",
    "from sklearn.metrics import accuracy_score\n",
    "encoder = models.resnet50(pretrained=True)\n",
    "encoder = torch.nn.Sequential(*list(encoder.children())[:-1]) #removing final fc\n",
    "# Extract embeddings\n",
    "device = torch.device(\"cuda\" if torch.cuda.is_available() else \"cpu\")\n",
    "def extract_features(loader, model):\n",
    "    model.to(device)\n",
    "    model.eval()\n",
    "    features, labels = [], []\n",
    "    with torch.no_grad():\n",
    "        for inputs, targets in loader:\n",
    "            inputs = inputs.to(device)\n",
    "            outputs = model(inputs).squeeze()\n",
    "            features.append(outputs.cpu().numpy())\n",
    "            labels.append(targets.cpu().numpy())\n",
    "    return np.concatenate(features), np.concatenate(labels)\n",
    "\n",
    "train_features, train_labels = extract_features(train_loader, encoder)\n",
    "test_features, test_labels = extract_features(test_loader, encoder)\n",
    "#--------------------- Custom distance\n",
    "#################################################################\n",
    "def pairwise_squared_euclidean(X, Y):\n",
    "    # Compute the squared norms of each row in X and Y\n",
    "    X_norm_squared = np.sum(X**2, axis=1).reshape(-1, 1)  # Shape (m, 1)\n",
    "    Y_norm_squared = np.sum(Y**2, axis=1).reshape(1, -1)  # Shape (1, n)\n",
    "    \n",
    "    # Compute the pairwise squared Euclidean distances\n",
    "    distances = X_norm_squared + Y_norm_squared - 2 * np.dot(X, Y.T)\n",
    "    \n",
    "    return distances\n",
    "def custom_distance_metric(x, y):\n",
    "    # `x` and `y` are single samples, so we need to reshape them as 2D arrays\n",
    "    x = x.reshape(1, -1)\n",
    "    y = y.reshape(1, -1)\n",
    "    return pairwise_squared_euclidean(x, y)[0, 0]  # Return the scalar distance\n",
    "#-----------------------------------------------------------\n",
    "# k-NN Classification\n",
    "knn = KNeighborsClassifier(n_neighbors=5, metric=custom_distance_metric)\n",
    "knn.fit(train_features, train_labels)\n",
    "test_preds = knn.predict(test_features)\n",
    "accuracy = accuracy_score(test_labels, test_preds)\n",
    "print(f'k-NN Test Accuracy: {accuracy * 100:.2f}%')"
   ]
  },
  {
   "cell_type": "code",
   "execution_count": 7,
   "metadata": {},
   "outputs": [
    {
     "data": {
      "image/png": "[encoded data removed]",
      "text/plain": [
       "<Figure size 800x600 with 2 Axes>"
      ]
     },
     "metadata": {},
     "output_type": "display_data"
    }
   ],
   "source": [
    "import umap\n",
    "import matplotlib.pyplot as plt\n",
    "def visualize_umap(features, labels):\n",
    "    reducer = umap.UMAP(n_neighbors=15, n_components=2, metric='euclidean')\n",
    "    umap_embeddings = reducer.fit_transform(features)\n",
    "\n",
    "    plt.figure(figsize=(8, 6))\n",
    "    scatter = plt.scatter(umap_embeddings[:, 0], umap_embeddings[:, 1], c=labels, cmap='Spectral', s=5)\n",
    "    plt.title('UMAP Visualization of Feature Space')\n",
    "    plt.xlabel('UMAP Component 1')\n",
    "    plt.ylabel('UMAP Component 2')\n",
    "    plt.colorbar()\n",
    "    plt.show()\n",
    "\n",
    "# Visualize training features\n",
    "visualize_umap(train_features, train_labels)"
   ]
  },
  {
   "cell_type": "markdown",
   "metadata": {},
   "source": [
    "Frozen Resnet Encoder with last FC layer as classifier"
   ]
  },
  {
   "cell_type": "code",
   "execution_count": null,
   "metadata": {},
   "outputs": [
    {
     "name": "stderr",
     "output_type": "stream",
     "text": [
      "C:\\Users\\Admin\\anaconda3\\envs\\scio\\lib\\site-packages\\torchvision\\models\\_utils.py:208: UserWarning: The parameter 'pretrained' is deprecated since 0.13 and may be removed in the future, please use 'weights' instead.\n",
      "  warnings.warn(\n",
      "C:\\Users\\Admin\\anaconda3\\envs\\scio\\lib\\site-packages\\torchvision\\models\\_utils.py:223: UserWarning: Arguments other than a weight enum or `None` for 'weights' are deprecated since 0.13 and may be removed in the future. The current behavior is equivalent to passing `weights=ResNet50_Weights.IMAGENET1K_V1`. You can also use `weights=ResNet50_Weights.DEFAULT` to get the most up-to-date weights.\n",
      "  warnings.warn(msg)\n"
     ]
    },
    {
     "name": "stdout",
     "output_type": "stream",
     "text": [
      "Epoch [1/10], Loss: 0.4058, Train Accuracy: 71.35%\n",
      "Validation Accuracy: 88.86%\n",
      "Epoch [2/10], Loss: 0.2486, Train Accuracy: 93.53%\n",
      "Validation Accuracy: 91.71%\n",
      "Epoch [3/10], Loss: 0.1439, Train Accuracy: 96.10%\n",
      "Validation Accuracy: 92.20%\n",
      "Epoch [4/10], Loss: 0.1433, Train Accuracy: 97.63%\n",
      "Validation Accuracy: 92.55%\n",
      "Epoch [5/10], Loss: 0.1990, Train Accuracy: 98.12%\n",
      "Validation Accuracy: 93.16%\n",
      "Epoch [6/10], Loss: 0.1029, Train Accuracy: 98.72%\n",
      "Validation Accuracy: 93.13%\n",
      "Epoch [7/10], Loss: 0.0249, Train Accuracy: 98.96%\n",
      "Validation Accuracy: 92.93%\n",
      "Epoch [8/10], Loss: 0.1325, Train Accuracy: 99.19%\n",
      "Validation Accuracy: 93.43%\n",
      "Epoch [9/10], Loss: 0.0551, Train Accuracy: 99.47%\n",
      "Validation Accuracy: 93.63%\n",
      "Epoch [10/10], Loss: 0.0173, Train Accuracy: 99.42%\n",
      "Validation Accuracy: 93.55%\n"
     ]
    },
    {
     "data": {
      "image/png": "[encoded data removed]",
      "text/plain": [
       "<Figure size 1000x600 with 1 Axes>"
      ]
     },
     "metadata": {},
     "output_type": "display_data"
    }
   ],
   "source": [
    "import torch.nn as nn\n",
    "import torch.optim as optim\n",
    "from sklearn.metrics import accuracy_score\n",
    "import matplotlib.pyplot as plt\n",
    "\n",
    "\n",
    "# Define the model with a frozen ResNet-50 encoder\n",
    "class ResNet50Classifier(nn.Module):\n",
    "    def __init__(self, num_classes):\n",
    "        super(ResNet50Classifier, self).__init__()\n",
    "        self.resnet = models.resnet50(pretrained=True)\n",
    "        for param in self.resnet.parameters():\n",
    "            param.requires_grad = False  # Freeze the feature extractor\n",
    "        self.resnet.fc = nn.Linear(self.resnet.fc.in_features, num_classes)  # New FC layer\n",
    "\n",
    "    def forward(self, x):\n",
    "        return self.resnet(x)\n",
    "\n",
    "\n",
    "\n",
    "# Set device\n",
    "device = torch.device(\"cuda\" if torch.cuda.is_available() else \"cpu\")\n",
    "\n",
    "# Initialize the model\n",
    "model = ResNet50Classifier(num_classes=101)\n",
    "model = model.to(device)\n",
    "\n",
    "# Loss and optimizer\n",
    "criterion = nn.CrossEntropyLoss()\n",
    "optimizer = optim.Adam(model.resnet.fc.parameters(), lr=0.001)\n",
    "\n",
    "# Lists to store training and validation accuracies\n",
    "train_accuracies = []\n",
    "val_accuracies = []\n",
    "\n",
    "# Train the model\n",
    "num_epochs = 10  # Adjust as necessary\n",
    "for epoch in range(num_epochs):\n",
    "    model.train()\n",
    "    correct_train = 0\n",
    "    total_train = 0\n",
    "\n",
    "    for inputs, targets in train_loader:\n",
    "        inputs, targets = inputs.to(device), targets.to(device)\n",
    "\n",
    "        optimizer.zero_grad()  # Clear gradients\n",
    "        outputs = model(inputs)  # Forward pass\n",
    "        loss = criterion(outputs, targets)  # Compute loss\n",
    "        loss.backward()  # Backward pass\n",
    "        optimizer.step()  # Update weights\n",
    "\n",
    "        # Calculate training accuracy\n",
    "        _, predicted = torch.max(outputs.data, 1)\n",
    "        total_train += targets.size(0)\n",
    "        correct_train += (predicted == targets).sum().item()\n",
    "\n",
    "    train_accuracy = correct_train / total_train\n",
    "    train_accuracies.append(train_accuracy)\n",
    "    print(f'Epoch [{epoch+1}/{num_epochs}], Loss: {loss.item():.4f}, Train Accuracy: {train_accuracy * 100:.2f}%')\n",
    "\n",
    "    # Evaluate on validation set\n",
    "    model.eval()\n",
    "    correct_val = 0\n",
    "    total_val = 0\n",
    "    test_features, test_labels = [], []\n",
    "    with torch.no_grad():\n",
    "        for inputs, targets in test_loader:\n",
    "            inputs = inputs.to(device)\n",
    "            outputs = model(inputs)\n",
    "            test_features.append(outputs.cpu().numpy())\n",
    "            test_labels.append(targets.cpu().numpy())\n",
    "    \n",
    "    test_features = np.concatenate(test_features)\n",
    "    test_labels = np.concatenate(test_labels)\n",
    "\n",
    "    # Calculate accuracy\n",
    "    test_preds = np.argmax(test_features, axis=1)\n",
    "    test_accuracy = accuracy_score(test_labels, test_preds)\n",
    "    val_accuracies.append(test_accuracy)\n",
    "    print(f'Validation Accuracy: {test_accuracy * 100:.2f}%')\n",
    "\n",
    "# Plot training and validation accuracies\n",
    "plt.figure(figsize=(10, 6))\n",
    "plt.plot(range(1, num_epochs + 1), train_accuracies, label='Training Accuracy')\n",
    "plt.plot(range(1, num_epochs + 1), val_accuracies, label='Validation Accuracy')\n",
    "plt.xlabel('Epochs')\n",
    "plt.ylabel('Accuracy')\n",
    "plt.title('Training and Validation Accuracy')\n",
    "plt.legend()\n",
    "plt.grid()\n",
    "plt.show()\n",
    "\n",
    "# Evaluate the model on test set\n",
    "model.eval()\n",
    "test_features, test_labels = [], []\n",
    "\n",
    "with torch.no_grad():\n",
    "    for inputs, targets in test_loader:\n",
    "        inputs = inputs.to(device)\n",
    "        outputs = model(inputs)\n",
    "        test_features.append(outputs.cpu().numpy())\n",
    "        test_labels.append(targets.cpu().numpy())\n",
    "\n",
    "test_features = np.concatenate(test_features)\n",
    "test_labels = np.concatenate(test_labels)\n",
    "\n",
    "# Calculate accuracy\n",
    "test_preds = np.argmax(test_features, axis=1)\n",
    "accuracy = accuracy_score(test_labels, test_preds)\n",
    "print(f'Frozen Encoder - FC linear - Test Accuracy: {accuracy * 100:.2f}%')"
   ]
  },
  {
   "cell_type": "markdown",
   "metadata": {},
   "source": [
    "**Fine Tuned Model**"
   ]
  },
  {
   "cell_type": "markdown",
   "metadata": {},
   "source": [
    "Data Augmentations"
   ]
  },
  {
   "cell_type": "code",
   "execution_count": null,
   "metadata": {},
   "outputs": [],
   "source": [
    "import os\n",
    "import torch\n",
    "import numpy as np\n",
    "from torchvision import datasets, transforms\n",
    "from torch.utils.data import DataLoader, Subset\n",
    "from sklearn.model_selection import train_test_split\n",
    "\n",
    "# Ensure images are in RGB format\n",
    "def ensure_rgb(image):\n",
    "    if image.mode != 'RGB':\n",
    "        image = image.convert('RGB')\n",
    "    return image\n",
    "\n",
    "def load_caltech101(batch_size=32):\n",
    "    # Define data augmentation for the training set\n",
    "    train_transform = transforms.Compose([\n",
    "        transforms.Lambda(ensure_rgb),\n",
    "        transforms.RandomResizedCrop(224),  # Randomly crop and resize the image\n",
    "        transforms.RandomHorizontalFlip(),  # Randomly flip the image horizontally\n",
    "        transforms.RandomRotation(30),  # Randomly rotate the image by 30 degrees\n",
    "        transforms.ColorJitter(brightness=0.3, contrast=0.3, saturation=0.3, hue=0.3),  \n",
    "        transforms.ToTensor(),  # Convert the image to a tensor\n",
    "        transforms.Normalize(mean=[0.485, 0.456, 0.406], std=[0.229, 0.224, 0.225])  # Normalize with ImageNet stats\n",
    "    ])\n",
    "\n",
    "    # Define basic transformations for the test set\n",
    "    test_transform = transforms.Compose([\n",
    "        transforms.Lambda(ensure_rgb),\n",
    "        transforms.Resize((224, 224)),  # Resize to 224x224\n",
    "        transforms.ToTensor(),  # Convert images to PyTorch tensors\n",
    "        transforms.Normalize(mean=[0.485, 0.456, 0.406], std=[0.229, 0.224, 0.225])  # Normalize with ImageNet stats\n",
    "    ])\n",
    "\n",
    "    # Load the entire Caltech101 dataset with test and train transforms\n",
    "    dataset = datasets.Caltech101(root='./data/101_ObjectCategories', download=True, transform=None)\n",
    "\n",
    "    # Get labels and indices\n",
    "    labels = np.array([target for _, target in dataset])\n",
    "\n",
    "    # Create train and test splits\n",
    "    train_indices, test_indices = train_test_split(\n",
    "        np.arange(len(dataset)), test_size=0.3, stratify=labels, random_state=42\n",
    "    )\n",
    "\n",
    "    # Create subsets for training and testing\n",
    "    train_dataset = Subset(dataset, train_indices)\n",
    "    test_dataset = Subset(dataset, test_indices)\n",
    "\n",
    "    # Apply transforms to the subsets\n",
    "    train_dataset.dataset.transform = train_transform  # Apply the train transform\n",
    "    test_dataset.dataset.transform = test_transform  # Apply the test transform\n",
    "\n",
    "    # Create data loaders\n",
    "    train_loader = DataLoader(train_dataset, batch_size=batch_size, shuffle=True)\n",
    "    test_loader = DataLoader(test_dataset, batch_size=batch_size, shuffle=False)\n",
    "\n",
    "    return train_loader, test_loader\n",
    "\n",
    "# Load the datasets\n",
    "train_loader, test_loader = load_caltech101()"
   ]
  },
  {
   "cell_type": "markdown",
   "metadata": {},
   "source": [
    "Learning Rate Schedular with Warmup Ramp and then Expotentional Decay"
   ]
  },
  {
   "cell_type": "code",
   "execution_count": null,
   "metadata": {},
   "outputs": [],
   "source": [
    "class WarmupExponentialLR:\n",
    "    def __init__(self, optimizer, warmup_epochs, initial_lr, max_lr, decay_rate, lr_min):\n",
    "        self.optimizer = optimizer\n",
    "        self.warmup_epochs = warmup_epochs\n",
    "        self.initial_lr = initial_lr\n",
    "        self.max_lr = max_lr\n",
    "        self.decay_rate = decay_rate\n",
    "        self.lr_min = lr_min\n",
    "        self.current_epoch = 0\n",
    "\n",
    "    def step(self):\n",
    "        self.current_epoch += 1\n",
    "\n",
    "        # Warmup phase\n",
    "        if self.current_epoch <= self.warmup_epochs:\n",
    "            lr = self.initial_lr + (self.max_lr - self.initial_lr) * (self.current_epoch / self.warmup_epochs)\n",
    "        else:\n",
    "            # Exponential decay phase\n",
    "            decay_epochs = self.current_epoch - self.warmup_epochs\n",
    "            decay_epochs_tensor = torch.tensor(decay_epochs, dtype=torch.float)\n",
    "            lr = self.lr_min + (self.max_lr - self.lr_min) * torch.exp(-self.decay_rate * decay_epochs_tensor)\n",
    "            #lr = self.lr_min + (self.max_lr - self.lr_min) * torch.exp(-self.decay_rate * decay_epochs)\n",
    "\n",
    "        # Update the learning rate for each parameter group\n",
    "        for param_group in self.optimizer.param_groups:\n",
    "            param_group['lr'] = lr\n",
    "    def get_lr(self):\n",
    "        # Return the current learning rate for all parameter groups\n",
    "        return self.optimizer.param_groups[0]['lr']"
   ]
  },
  {
   "cell_type": "markdown",
   "metadata": {},
   "source": [
    "Gradual Unfreezing of the Model Layers"
   ]
  },
  {
   "cell_type": "code",
   "execution_count": null,
   "metadata": {},
   "outputs": [],
   "source": [
    "def unfreeze_layers(model, blocks_to_unfreeze):\n",
    "\n",
    "    layers = list(model.resnet.named_children())[:-2]  # Exclude AdaptiveAvgPool and FC layer\n",
    "    num_blocks = len(layers)  # Number of blocks in ResNet-50\n",
    "\n",
    "    if blocks_to_unfreeze > 0:\n",
    "        print(f\"\\nUnfreezing the last {blocks_to_unfreeze} blocks of ResNet-50:\")\n",
    "        for i, (name, block) in enumerate(layers[-blocks_to_unfreeze:], 1):\n",
    "            for param in block.parameters():\n",
    "                param.requires_grad = True\n",
    "                block_info = str(block)[:100]\n",
    "            print(f\"Unfrozen Block {num_blocks - blocks_to_unfreeze + i} ({name}): {block_info}.....\")"
   ]
  },
  {
   "cell_type": "markdown",
   "metadata": {},
   "source": [
    "Training"
   ]
  },
  {
   "cell_type": "code",
   "execution_count": null,
   "metadata": {},
   "outputs": [],
   "source": [
    "import torch.nn as nn\n",
    "import torch.optim as optim\n",
    "from sklearn.metrics import accuracy_score\n",
    "import matplotlib.pyplot as plt\n",
    "import torchvision.models as models\n",
    "class ResNet50Classifier(nn.Module):\n",
    "    def __init__(self, num_classes, dropout_rate=0.5):\n",
    "        super(ResNet50Classifier, self).__init__()\n",
    "        self.resnet = models.resnet50(pretrained=True)\n",
    "        self.dropout = nn.Dropout2d(dropout_rate)\n",
    "        for param in self.resnet.parameters():\n",
    "            param.requires_grad = False  # Freeze the feature extractor\n",
    "        self.resnet.fc = nn.Sequential(\n",
    "            #nn.Linear(self.resnet.fc.in_features, 256),  # Add a hidden layer\n",
    "            #nn.ReLU(),\n",
    "            nn.Dropout(dropout_rate),  # Add dropout\n",
    "            nn.Linear(self.resnet.fc.in_features, num_classes)  # New FC layer for output\n",
    "        )\n",
    "\n",
    "    def forward(self, x):\n",
    "        return self.resnet(x)\n",
    "\n",
    "# Set device\n",
    "device = torch.device(\"cuda\" if torch.cuda.is_available() else \"cpu\")\n",
    "model = ResNet50Classifier(num_classes=101)\n",
    "model = model.to(device)\n",
    "criterion = nn.CrossEntropyLoss()\n",
    "optimizer = optim.Adam(model.resnet.fc.parameters(), lr=0.001, weight_decay=1e-4)  \n",
    "\n",
    "# Initialize the custom learning rate scheduler\n",
    "warmup_epochs = 10  # Number of warmup epochs\n",
    "initial_lr = 0.000001  # Starting learning rate for warmup\n",
    "max_lr = 0.0001  # Maximum learning rate\n",
    "decay_rate = 0.1  # Rate of exponential decay\n",
    "lr_min = 0.000001  # Minimum learning rate\n",
    "\n",
    "scheduler = WarmupExponentialLR(optimizer, warmup_epochs, initial_lr, max_lr, decay_rate, lr_min)\n",
    "\n",
    "# Lists to store training and validation accuracies\n",
    "train_accuracies = []\n",
    "val_accuracies = []\n",
    "learning_rates = []\n",
    "\n",
    "num_epochs = 20  # Total number of epochs\n",
    "\n",
    "num_blocks = 4\n",
    "unfreeze_range_low=4\n",
    "unfreeze_range_high=8\n",
    "\n",
    "for epoch in range(num_epochs):\n",
    "    if epoch > unfreeze_range_low and epoch < unfreeze_range_high:\n",
    "        blocks_to_unfreeze = min(num_blocks, (epoch - unfreeze_range_low))\n",
    "        unfreeze_layers(model, blocks_to_unfreeze)\n",
    "    if epoch == 15:\n",
    "        print(f\"Unfreezing all layers after epoch {epoch}\")\n",
    "        for param in model.resnet.parameters():\n",
    "            param.requires_grad = True\n",
    "    model.train()\n",
    "    correct_train = 0\n",
    "    total_train = 0\n",
    "\n",
    "    for inputs, targets in train_loader:\n",
    "        inputs, targets = inputs.to(device), targets.to(device)\n",
    "\n",
    "        optimizer.zero_grad()  # Clear gradients\n",
    "        outputs = model(inputs)  # Forward pass\n",
    "        loss = criterion(outputs, targets)  # Compute loss\n",
    "        loss.backward()  # Backward pass\n",
    "        optimizer.step()  # Update weights\n",
    "\n",
    "        \n",
    "        # Calculate training accuracy\n",
    "        _, predicted = torch.max(outputs.data, 1)\n",
    "        total_train += targets.size(0)\n",
    "        correct_train += (predicted == targets).sum().item()\n",
    "    \n",
    "    # Update learning rate\n",
    "    scheduler.step()  # Update the learning rate scheduler\n",
    "    current_lr = scheduler.get_lr()  # Get the current learning rate\n",
    "    learning_rates.append(current_lr)\n",
    "    \n",
    "    print(f'Current Learning Rate: {current_lr:.6f}')\n",
    "    train_accuracy = correct_train / total_train\n",
    "    train_accuracies.append(train_accuracy)\n",
    "    print(f'Epoch [{epoch + 1}/{num_epochs}], Loss: {loss.item():.4f}, Train Accuracy: {train_accuracy * 100:.2f}%')\n",
    "\n",
    "    # Evaluate on validation set\n",
    "    model.eval()\n",
    "    correct_val = 0\n",
    "    total_val = 0\n",
    "    test_features, test_labels = [], []\n",
    "    with torch.no_grad():\n",
    "        for inputs, targets in test_loader:\n",
    "            inputs = inputs.to(device)\n",
    "            outputs = model(inputs)\n",
    "            test_features.append(outputs.cpu().numpy())\n",
    "            test_labels.append(targets.cpu().numpy())\n",
    "\n",
    "    test_features = np.concatenate(test_features)\n",
    "    test_labels = np.concatenate(test_labels)\n",
    "\n",
    "    # Calculate accuracy\n",
    "    test_preds = np.argmax(test_features, axis=1)\n",
    "    test_accuracy = accuracy_score(test_labels, test_preds)\n",
    "    val_accuracies.append(test_accuracy)\n",
    "    print(f'Validation Accuracy: {test_accuracy * 100:.2f}%')\n",
    "\n",
    "# Plot training and validation accuracies (optional)\n",
    "plt.figure(figsize=(10, 6))\n",
    "plt.plot(range(1, num_epochs + 1), train_accuracies, label='Training Accuracy')\n",
    "plt.plot(range(1, num_epochs + 1), val_accuracies, label='Validation Accuracy')\n",
    "plt.xlabel('Epochs')\n",
    "plt.ylabel('Accuracy')\n",
    "plt.title('Training and Validation Accuracy')\n",
    "plt.legend()\n",
    "plt.grid()\n",
    "plt.show()\n",
    "\n",
    "# Evaluate the model on the test set\n",
    "model.eval()\n",
    "test_features, test_labels = [], []\n",
    "\n",
    "with torch.no_grad():\n",
    "    for inputs, targets in test_loader:\n",
    "        inputs = inputs.to(device)\n",
    "        outputs = model(inputs)\n",
    "        test_features.append(outputs.cpu().numpy())\n",
    "        test_labels.append(targets.cpu().numpy())\n",
    "\n",
    "test_features = np.concatenate(test_features)\n",
    "test_labels = np.concatenate(test_labels)\n",
    "\n",
    "# Calculate accuracy\n",
    "test_preds = np.argmax(test_features, axis=1)\n",
    "accuracy = accuracy_score(test_labels, test_preds)\n",
    "print(f'Test Accuracy: {accuracy * 100:.2f}%')"
   ]
  },
  {
   "cell_type": "code",
   "execution_count": null,
   "metadata": {},
   "outputs": [],
   "source": [
    "\n",
    "# Plot learning rate schedule\n",
    "plt.figure(figsize=(10, 6))\n",
    "plt.plot(range(1, num_epochs + 1), learning_rates, label='Learning Rate Schedule')\n",
    "plt.xlabel('Epochs')\n",
    "plt.ylabel('Learning Rate')\n",
    "plt.title('Learning Rate Schedule Over Epochs')\n",
    "plt.legend()\n",
    "plt.grid()\n",
    "plt.show()"
   ]
  },
  {
   "cell_type": "code",
   "execution_count": null,
   "metadata": {},
   "outputs": [],
   "source": [
    "print(model)"
   ]
  }
 ],
 "metadata": {
  "kaggle": {
   "accelerator": "gpu",
   "dataSources": [],
   "dockerImageVersionId": 30787,
   "isGpuEnabled": true,
   "isInternetEnabled": true,
   "language": "python",
   "sourceType": "notebook"
  },
  "kernelspec": {
   "display_name": "Python 3 (ipykernel)",
   "language": "python",
   "name": "python3"
  },
  "language_info": {
   "codemirror_mode": {
    "name": "ipython",
    "version": 3
   },
   "file_extension": ".py",
   "mimetype": "text/x-python",
   "name": "python",
   "nbconvert_exporter": "python",
   "pygments_lexer": "ipython3",
   "version": "3.10.13"
  }
 },
 "nbformat": 4,
 "nbformat_minor": 4
}
